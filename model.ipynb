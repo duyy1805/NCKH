{
 "cells": [
  {
   "cell_type": "code",
   "execution_count": 13,
   "metadata": {},
   "outputs": [],
   "source": [
    "from tensorflow.keras.models import Sequential, Model\n",
    "from tensorflow.keras.layers import Conv1D, MaxPooling1D, Flatten, Dense, Input, concatenate, Dropout,Activation"
   ]
  },
  {
   "cell_type": "code",
   "execution_count": 14,
   "metadata": {},
   "outputs": [
    {
     "name": "stdout",
     "output_type": "stream",
     "text": [
      "Model: \"model_2\"\n",
      "__________________________________________________________________________________________________\n",
      " Layer (type)                   Output Shape         Param #     Connected to                     \n",
      "==================================================================================================\n",
      " conv1d_6_input (InputLayer)    [(None, 15, 1)]      0           []                               \n",
      "                                                                                                  \n",
      " conv1d_7_input (InputLayer)    [(None, 15, 1)]      0           []                               \n",
      "                                                                                                  \n",
      " conv1d_8_input (InputLayer)    [(None, 11, 1)]      0           []                               \n",
      "                                                                                                  \n",
      " conv1d_6 (Conv1D)              (None, 13, 8)        32          ['conv1d_6_input[0][0]']         \n",
      "                                                                                                  \n",
      " conv1d_7 (Conv1D)              (None, 13, 8)        32          ['conv1d_7_input[0][0]']         \n",
      "                                                                                                  \n",
      " conv1d_8 (Conv1D)              (None, 9, 8)         32          ['conv1d_8_input[0][0]']         \n",
      "                                                                                                  \n",
      " max_pooling1d_6 (MaxPooling1D)  (None, 6, 8)        0           ['conv1d_6[0][0]']               \n",
      "                                                                                                  \n",
      " max_pooling1d_7 (MaxPooling1D)  (None, 6, 8)        0           ['conv1d_7[0][0]']               \n",
      "                                                                                                  \n",
      " max_pooling1d_8 (MaxPooling1D)  (None, 4, 8)        0           ['conv1d_8[0][0]']               \n",
      "                                                                                                  \n",
      " flatten_6 (Flatten)            (None, 48)           0           ['max_pooling1d_6[0][0]']        \n",
      "                                                                                                  \n",
      " flatten_7 (Flatten)            (None, 48)           0           ['max_pooling1d_7[0][0]']        \n",
      "                                                                                                  \n",
      " flatten_8 (Flatten)            (None, 32)           0           ['max_pooling1d_8[0][0]']        \n",
      "                                                                                                  \n",
      " dense_12 (Dense)               (None, 32)           1568        ['flatten_6[0][0]']              \n",
      "                                                                                                  \n",
      " dense_13 (Dense)               (None, 32)           1568        ['flatten_7[0][0]']              \n",
      "                                                                                                  \n",
      " dense_14 (Dense)               (None, 32)           1056        ['flatten_8[0][0]']              \n",
      "                                                                                                  \n",
      " concatenate_2 (Concatenate)    (None, 96)           0           ['dense_12[0][0]',               \n",
      "                                                                  'dense_13[0][0]',               \n",
      "                                                                  'dense_14[0][0]']               \n",
      "                                                                                                  \n",
      " dense_15 (Dense)               (None, 128)          12416       ['concatenate_2[0][0]']          \n",
      "                                                                                                  \n",
      " dense_16 (Dense)               (None, 20)           2580        ['dense_15[0][0]']               \n",
      "                                                                                                  \n",
      " dropout_2 (Dropout)            (None, 20)           0           ['dense_16[0][0]']               \n",
      "                                                                                                  \n",
      " dense_17 (Dense)               (None, 5)            105         ['dropout_2[0][0]']              \n",
      "                                                                                                  \n",
      "==================================================================================================\n",
      "Total params: 19,389\n",
      "Trainable params: 19,389\n",
      "Non-trainable params: 0\n",
      "__________________________________________________________________________________________________\n"
     ]
    }
   ],
   "source": [
    "layer_one=Sequential()\n",
    "layer_one.add(Conv1D(8, 3, activation='relu', input_shape=(15, 1)))\n",
    "layer_one.add(MaxPooling1D(2))\n",
    "layer_one.add(Flatten())\n",
    "layer_one.add(Dense(32, activation='relu'))\n",
    "\n",
    "layer_two=Sequential()\n",
    "layer_two.add(Conv1D(8, 3, activation='relu', input_shape=(15, 1)))\n",
    "layer_two.add(MaxPooling1D(2))\n",
    "layer_two.add(Flatten())\n",
    "layer_two.add(Dense(32, activation='relu'))\n",
    "\n",
    "layer_three=Sequential()\n",
    "layer_three.add(Conv1D(8, 3, activation='relu', input_shape=(11, 1)))\n",
    "layer_three.add(MaxPooling1D(2))\n",
    "layer_three.add(Flatten())\n",
    "layer_three.add(Dense(32, activation='relu'))\n",
    "\n",
    "combined=concatenate([layer_one.output, layer_two.output, layer_three.output])\n",
    "z=Dense(128, activation='relu')(combined)\n",
    "z=Dense(20, activation='relu')(z)\n",
    "z=Dropout(0.25)(z)\n",
    "z=Dense(5, activation='relu')(z)\n",
    "\n",
    "\n",
    "model=Model(inputs=[layer_one.input, layer_two.input, layer_three.input], outputs=z)\n",
    "model.compile(optimizer='adam', loss='mse', metrics=['mae'])\n",
    "model.summary()"
   ]
  },
  {
   "cell_type": "code",
   "execution_count": 15,
   "metadata": {},
   "outputs": [
    {
     "name": "stdout",
     "output_type": "stream",
     "text": [
      "You must install pydot (`pip install pydot`) and install graphviz (see instructions at https://graphviz.gitlab.io/download/) for plot_model to work.\n"
     ]
    }
   ],
   "source": [
    "import tensorflow as tf\n",
    "from tensorflow.keras.utils import plot_model\n",
    "tf.keras.utils.plot_model(model, to_file='model.png', show_shapes=True)"
   ]
  }
 ],
 "metadata": {
  "kernelspec": {
   "display_name": "Python 3.9.13 ('nckh')",
   "language": "python",
   "name": "python3"
  },
  "language_info": {
   "codemirror_mode": {
    "name": "ipython",
    "version": 3
   },
   "file_extension": ".py",
   "mimetype": "text/x-python",
   "name": "python",
   "nbconvert_exporter": "python",
   "pygments_lexer": "ipython3",
   "version": "3.9.13"
  },
  "orig_nbformat": 4,
  "vscode": {
   "interpreter": {
    "hash": "97668f946ed7d3f9442fc4f73834bb963d305d3ac63abf615ac4ca00ca660f15"
   }
  }
 },
 "nbformat": 4,
 "nbformat_minor": 2
}
